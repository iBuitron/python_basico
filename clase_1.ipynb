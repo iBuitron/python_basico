{
 "cells": [
  {
   "cell_type": "code",
   "execution_count": null,
   "metadata": {},
   "outputs": [],
   "source": [
    "\n",
    "#* \n",
    "#todo \n",
    "#!!\n",
    "#?\n",
    "#//        "
   ]
  },
  {
   "cell_type": "markdown",
   "metadata": {},
   "source": [
    "### Conceptos básicos\n",
    "- **Identación:** \n",
    "    + ....\n",
    "- **Operadores:** \n",
    "    + Comparacion\n",
    "    + Logicos\n",
    "    + Matematicos\n",
    "- **Flujos de control o ciclos:** \n",
    "    + for\n",
    "    + while\n",
    "    + if/else/elif\n",
    "- **Tipos de datos:** \n",
    "    + str, int, float, bool y operaciones con los tipos de datos\n",
    "- **Estructura de datos:** \n",
    "    + List, Tuple, Dics, str\n",
    "- **Variables**\n",
    "- **Funciones y funciones lambda**"
   ]
  },
  {
   "cell_type": "markdown",
   "metadata": {},
   "source": [
    "### Identación: \n"
   ]
  },
  {
   "cell_type": "markdown",
   "metadata": {},
   "source": [
    ">                               \"Si no me mata la amnsiedad, lo hará la identación en Python\""
   ]
  },
  {
   "cell_type": "code",
   "execution_count": null,
   "metadata": {},
   "outputs": [],
   "source": [
    "\n",
    "#? La identación en Python está representada por 4 espacios (....)\n",
    "\n",
    "for x in range(5):\n",
    "    print(x)\n",
    "    "
   ]
  },
  {
   "cell_type": "code",
   "execution_count": null,
   "metadata": {},
   "outputs": [],
   "source": [
    "for x in range(5):\n",
    "    if x == 3:\n",
    "        print(x)\n",
    "        \n",
    "    "
   ]
  },
  {
   "cell_type": "code",
   "execution_count": null,
   "metadata": {},
   "outputs": [],
   "source": [
    "dic = {\n",
    "        \"key1\": \"value1\",\n",
    "        \"Key2\": \"value2\"\n",
    "        }\n",
    "\n",
    "dic"
   ]
  },
  {
   "cell_type": "markdown",
   "metadata": {},
   "source": [
    "### Operadores"
   ]
  },
  {
   "cell_type": "markdown",
   "metadata": {},
   "source": [
    "> `Comparacion:`"
   ]
  },
  {
   "cell_type": "code",
   "execution_count": null,
   "metadata": {},
   "outputs": [],
   "source": [
    "\n",
    "#? Asignación ( = )\n",
    "\n",
    "a = 1\n",
    "b = 2\n",
    "c = 3\n",
    "\n",
    "variable = \"esta es una variable\"\n",
    "\n",
    "print (a, b , c)\n",
    "print (a + b + c)\n",
    "print (variable)"
   ]
  },
  {
   "cell_type": "code",
   "execution_count": null,
   "metadata": {},
   "outputs": [],
   "source": [
    "\n",
    "#? Igualdad ( == )\n",
    "#? No igual / diferente ( != )\n",
    "\n",
    "a = 1\n",
    "b = 1 \n",
    "\n",
    "c = 2\n",
    "d = 3\n",
    "\n",
    "print (a == b)\n",
    "print (a != b )\n",
    "print (c == d)\n",
    "print (c != d)"
   ]
  },
  {
   "cell_type": "code",
   "execution_count": null,
   "metadata": {},
   "outputs": [],
   "source": [
    "c = \"A\"\n",
    "d = \"a\"\n",
    "print ( c == b )\n",
    "print ( 1 == 2)"
   ]
  },
  {
   "cell_type": "code",
   "execution_count": null,
   "metadata": {},
   "outputs": [],
   "source": [
    "\n",
    "#? Mayor ( > )\n",
    "#? Menor ( < )\n",
    "\n",
    "print (2 > 1)\n",
    "print (1 > 2)\n"
   ]
  },
  {
   "cell_type": "code",
   "execution_count": null,
   "metadata": {},
   "outputs": [],
   "source": [
    "print (2 > 2)\n",
    "print (2 < 2)"
   ]
  },
  {
   "cell_type": "code",
   "execution_count": null,
   "metadata": {},
   "outputs": [],
   "source": [
    "\n",
    "#? Mayor_igual ( >= )\n",
    "#? Menor_igual ( <= )\n",
    "\n",
    "print (2 >= 2)\n",
    "print (2 <= 2)"
   ]
  },
  {
   "cell_type": "markdown",
   "metadata": {},
   "source": [
    "> `Logicos`: *and/or/not*"
   ]
  },
  {
   "cell_type": "code",
   "execution_count": null,
   "metadata": {},
   "outputs": [],
   "source": [
    "numero = 5\n",
    "\n",
    "if numero > 1 and numero < 10:\n",
    "    print (\"El numero cumple las dos condiciones\")\n",
    "    \n",
    "if numero > 1 & numero < 10:\n",
    "    print (\"El numero cumple las dos condiciones\")\n"
   ]
  },
  {
   "cell_type": "code",
   "execution_count": null,
   "metadata": {},
   "outputs": [],
   "source": [
    "numero = 5\n",
    "\n",
    "if numero > 6 and numero < 10:\n",
    "    print (\"El numero cumple ambas condiciones logicas\")\n",
    "else:\n",
    "    print (\"El numero NO cumple ambas condicion\")    "
   ]
  },
  {
   "cell_type": "code",
   "execution_count": null,
   "metadata": {},
   "outputs": [],
   "source": [
    "numero = 5\n",
    "    \n",
    "if numero > 1 or numero < 4:\n",
    "    print (\"El numero cumple almenos una de las condicion\")\n",
    "\n",
    "    \n",
    "if numero > 1 | numero < 4:\n",
    "    print (\"El numero cumple almenos una de las condicion\")"
   ]
  },
  {
   "cell_type": "markdown",
   "metadata": {},
   "source": [
    "> `Identidad:` *is / is not*"
   ]
  },
  {
   "cell_type": "code",
   "execution_count": null,
   "metadata": {},
   "outputs": [],
   "source": [
    "x1 = 5\n",
    "y1 = 5\n",
    "x2 = 'Hello'\n",
    "y2 = 'Hello'\n",
    "x3 = [1,2,3]\n",
    "y3 = [1,2,3]\n",
    "\n",
    "\n",
    "# Output: False\n",
    "print(x1 is not y1)\n",
    "\n",
    "# Output: True\n",
    "print(x2 is y2)\n",
    "\n",
    "# Output: False\n",
    "print(x3 is y3)"
   ]
  },
  {
   "cell_type": "markdown",
   "metadata": {},
   "source": [
    "> `Pertenencia:` *in / no in*"
   ]
  },
  {
   "cell_type": "code",
   "execution_count": null,
   "metadata": {},
   "outputs": [],
   "source": [
    "print (\"a\" in \"hola\")\n",
    "print (5 in range(10)) "
   ]
  },
  {
   "cell_type": "markdown",
   "metadata": {},
   "source": [
    "> `Matematicos:`"
   ]
  },
  {
   "cell_type": "code",
   "execution_count": null,
   "metadata": {},
   "outputs": [],
   "source": [
    "\n",
    "#? Suma/Resta/Multiplicacion\n",
    "\n",
    "print ( 1 + 1)\n",
    "print ( 2 - 1)\n",
    "print ( 5 * 2)"
   ]
  },
  {
   "cell_type": "code",
   "execution_count": null,
   "metadata": {},
   "outputs": [],
   "source": [
    "\n",
    "#? Potencia\n",
    "\n",
    "print (2**2)\n",
    "print (3**2)\n",
    "print (3**3)\n",
    "print (2**10)"
   ]
  },
  {
   "cell_type": "code",
   "execution_count": null,
   "metadata": {},
   "outputs": [],
   "source": [
    "\n",
    "#? Division \n",
    "\n",
    "print (f\"Esta es una division normal { 4/2 }, el resultado es un numero de tipo float\" )\n",
    "\n",
    "print (f\"Esta es una division normal { 7/2 }, el resultado es un numero de tipo float\" )\n",
    "print (f\"Esta una una division entera {7//2}, el resultado es cociente de la division, y es de tipo int\")\n",
    "\n",
    "print (\"*********\")\n",
    "\n",
    "print (f\"Esta es una division normal { 9/2 }, el resultado es un numero de tipo float\" )\n",
    "print (f\"Esta una una division entera {9//2}, el resultado es cociente de la division, y es de tipo int\")\n",
    "\n",
    "print (\"*********\")\n",
    "\n",
    "print (f\"esta es una division modular { 17 % 3 }, el resultado es el residuo/resto de la operacion y es de tipo int\")\n",
    "print (f\"Esta una una division entera {7%2}, el resultado es cociente de la division, y es de tipo int\")\n",
    "print (f\"Esta una una division entera {9%2}, el resultado es cociente de la division, y es de tipo int\")\n"
   ]
  },
  {
   "cell_type": "markdown",
   "metadata": {},
   "source": [
    "### Flujos de control: "
   ]
  },
  {
   "cell_type": "markdown",
   "metadata": {},
   "source": [
    "> Statement `for`"
   ]
  },
  {
   "cell_type": "code",
   "execution_count": null,
   "metadata": {},
   "outputs": [],
   "source": [
    "range(10)"
   ]
  },
  {
   "cell_type": "code",
   "execution_count": null,
   "metadata": {},
   "outputs": [],
   "source": [
    "lista = [0,1,2,3,4,5,6,7,8,9]\n",
    "lista"
   ]
  },
  {
   "cell_type": "code",
   "execution_count": null,
   "metadata": {},
   "outputs": [],
   "source": [
    "for i in lista:\n",
    "    print (i)"
   ]
  },
  {
   "cell_type": "code",
   "execution_count": null,
   "metadata": {},
   "outputs": [],
   "source": [
    "for i in range(10):\n",
    "    print (i)"
   ]
  },
  {
   "cell_type": "code",
   "execution_count": null,
   "metadata": {},
   "outputs": [],
   "source": [
    "for i in \"hola\":\n",
    "    print (i)"
   ]
  },
  {
   "cell_type": "code",
   "execution_count": null,
   "metadata": {},
   "outputs": [],
   "source": [
    "for i in \"69\":\n",
    "    print(i)"
   ]
  },
  {
   "cell_type": "markdown",
   "metadata": {},
   "source": [
    "> Loop `while`"
   ]
  },
  {
   "cell_type": "code",
   "execution_count": null,
   "metadata": {},
   "outputs": [],
   "source": [
    "numero = 1\n",
    "contador = 1\n",
    "\n",
    "while contador < 10:\n",
    "    print(numero)\n",
    "    contador = contador + 1\n",
    "    "
   ]
  },
  {
   "cell_type": "code",
   "execution_count": null,
   "metadata": {},
   "outputs": [],
   "source": [
    "numero = 1\n",
    "contador = 1\n",
    "\n",
    "while contador < 10:\n",
    "    print(numero)\n",
    "    numero = numero + 1\n",
    "    contador = contador + 1"
   ]
  },
  {
   "cell_type": "code",
   "execution_count": null,
   "metadata": {},
   "outputs": [],
   "source": [
    "a = 1\n",
    "i = 1\n",
    "\n",
    "while i < 10:\n",
    "    print(a)\n",
    "    a = a + 1\n",
    "    i = i + 1"
   ]
  },
  {
   "cell_type": "code",
   "execution_count": null,
   "metadata": {},
   "outputs": [],
   "source": [
    "numero = 1\n",
    "contador = 1\n",
    "\n",
    "while contador < 10:\n",
    "    print(numero)\n",
    "    contador += 1"
   ]
  },
  {
   "cell_type": "markdown",
   "metadata": {},
   "source": [
    "> Statement `if` \\ `else` \\ `elif`"
   ]
  },
  {
   "cell_type": "code",
   "execution_count": null,
   "metadata": {},
   "outputs": [],
   "source": [
    "if 4 < 5:\n",
    "    print (\"el primer valor es menor que el segundo valor\")"
   ]
  },
  {
   "cell_type": "code",
   "execution_count": null,
   "metadata": {},
   "outputs": [],
   "source": [
    "if 5 < 4:\n",
    "    print (\"El primer valor es MENOR que el segundo valor - 1\")\n",
    "    \n",
    "else:\n",
    "    print (\"El primer valor es MAYOR que el segundo valor - 2\")"
   ]
  },
  {
   "cell_type": "code",
   "execution_count": null,
   "metadata": {},
   "outputs": [],
   "source": [
    "if 5 < 5:\n",
    "    print (\"el primer valor es menor que el segundo valor - 1\")\n",
    "\n",
    "elif 5 == 5:\n",
    "    print (\"Los dos valores son iguales\")\n",
    "    \n",
    "else:\n",
    "    print (\"el primer valor es MAYOR que el segundo valor - 2\")"
   ]
  },
  {
   "cell_type": "markdown",
   "metadata": {},
   "source": [
    "> Statement `break` \\ `pass` \\ `continue`\n"
   ]
  },
  {
   "cell_type": "code",
   "execution_count": null,
   "metadata": {},
   "outputs": [],
   "source": [
    "for i in range(10):\n",
    "    print (i)"
   ]
  },
  {
   "cell_type": "code",
   "execution_count": null,
   "metadata": {},
   "outputs": [],
   "source": [
    "\n",
    "#? Break\n",
    "\n",
    "for i in range(10):\n",
    "    print(i)\n",
    "    if i == 5:\n",
    "        break"
   ]
  },
  {
   "cell_type": "code",
   "execution_count": null,
   "metadata": {},
   "outputs": [],
   "source": [
    "\n",
    "\n",
    "#? Break\n",
    "\n",
    "for i in range(10):\n",
    "    print(i)\n",
    "    if i == 5:\n",
    "        break\n",
    "    \n",
    "    elif i == 6:\n",
    "        print(i)\n",
    "\n"
   ]
  },
  {
   "cell_type": "code",
   "execution_count": null,
   "metadata": {},
   "outputs": [],
   "source": [
    "\n",
    "#? Pass\n",
    "\n",
    "for i in range(10):\n",
    "    if i < 5:\n",
    "        print (i)\n",
    "    \n",
    "    elif i == 5:\n",
    "        pass\n",
    "    \n",
    "    else:\n",
    "        print (i)\n",
    "            "
   ]
  },
  {
   "cell_type": "code",
   "execution_count": 121,
   "metadata": {},
   "outputs": [
    {
     "name": "stdout",
     "output_type": "stream",
     "text": [
      "0\n",
      "1\n",
      "2\n",
      "3\n",
      "4\n",
      "6\n",
      "7\n",
      "8\n",
      "9\n"
     ]
    }
   ],
   "source": [
    "\n",
    "#? Pass\n",
    "\n",
    "for i in range(10):\n",
    "    if i < 5:\n",
    "        print (i)\n",
    "    \n",
    "    elif i == 5:\n",
    "        pass                #print(i * 2)\n",
    "    \n",
    "    else:\n",
    "        print (i)"
   ]
  },
  {
   "cell_type": "code",
   "execution_count": null,
   "metadata": {},
   "outputs": [],
   "source": [
    "\n",
    "#? Continue\n",
    "\n",
    "for i in range(10):\n",
    "    if i < 5:\n",
    "        print (i)\n",
    "    \n",
    "    elif i == 5:\n",
    "        continue\n",
    "    \n",
    "    else:\n",
    "        print (i)\n",
    "            "
   ]
  },
  {
   "cell_type": "code",
   "execution_count": null,
   "metadata": {},
   "outputs": [],
   "source": [
    "\n",
    "#? Continue\n",
    "\n",
    "for i in range(10):\n",
    "    if i < 5:\n",
    "        continue\n",
    "    \n",
    "    elif i == 5:\n",
    "        print (i*2)\n",
    "    \n",
    "    else:\n",
    "        print (i)"
   ]
  },
  {
   "cell_type": "markdown",
   "metadata": {},
   "source": [
    "### Tipos de datos:"
   ]
  },
  {
   "cell_type": "markdown",
   "metadata": {},
   "source": [
    "> `strings (str)` : Cadenas de texto"
   ]
  },
  {
   "cell_type": "markdown",
   "metadata": {},
   "source": [
    "> `integer (int)` : Numeros enteros"
   ]
  },
  {
   "cell_type": "markdown",
   "metadata": {},
   "source": [
    "> `float`: Numeros con decimales ( . )\n"
   ]
  },
  {
   "cell_type": "markdown",
   "metadata": {},
   "source": [
    "> `boolean`: True / False"
   ]
  },
  {
   "cell_type": "markdown",
   "metadata": {},
   "source": [
    "### Variables:"
   ]
  },
  {
   "cell_type": "markdown",
   "metadata": {},
   "source": [
    "### Funciones:"
   ]
  }
 ],
 "metadata": {
  "interpreter": {
   "hash": "dfa149c9c0a294b83c1bac2634a47ce220e3e813bfb06575be2f856ccda51472"
  },
  "kernelspec": {
   "display_name": "Python 3.10.2 ('venv': venv)",
   "language": "python",
   "name": "python3"
  },
  "language_info": {
   "codemirror_mode": {
    "name": "ipython",
    "version": 3
   },
   "file_extension": ".py",
   "mimetype": "text/x-python",
   "name": "python",
   "nbconvert_exporter": "python",
   "pygments_lexer": "ipython3",
   "version": "3.10.2"
  },
  "orig_nbformat": 4
 },
 "nbformat": 4,
 "nbformat_minor": 2
}
